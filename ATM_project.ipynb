{
 "cells": [
  {
   "cell_type": "markdown",
   "id": "d83d4ad1-7578-4b72-9d36-9d0f6e1b6df8",
   "metadata": {},
   "source": [
    "**Creating The Atm menu bar using OOps**\n"
   ]
  },
  {
   "cell_type": "code",
   "execution_count": 1,
   "id": "a39667c7-c743-4b68-b9a7-adf73b248491",
   "metadata": {},
   "outputs": [],
   "source": [
    "class Atm:\n",
    "\n",
    "  # constructor(special function)->superpower -> \n",
    "  def __init__(self):\n",
    "    print(id(self))\n",
    "    self.pin = ''\n",
    "    self.balance = 0\n",
    "    self.menu()\n",
    "  #Creating the Function Menu \n",
    "    \n",
    "  def menu(self):\n",
    "    user_input = input(\"\"\"\n",
    "    Hi how can I help you?\n",
    "    1. Press 1 to create pin\n",
    "    2. Press 2 to change pin\n",
    "    3. Press 3 to check balance\n",
    "    4. Press 4 to withdraw\n",
    "    5. Anything else to exit\n",
    "    \"\"\")\n",
    "  #using if - elif for creating,changing,check,withdraw using Comparision operator\n",
    "    if user_input == '1':\n",
    "      self.create_pin()\n",
    "    elif user_input == '2':\n",
    "      self.change_pin()\n",
    "    elif user_input == '3':\n",
    "      self.check_balance()\n",
    "    elif user_input == '4':\n",
    "      self.withdraw()\n",
    "    else:\n",
    "      exit()\n",
    "  #creating the function for create pin\n",
    "  def create_pin(self):\n",
    "    user_pin = input('enter your pin')\n",
    "    self.pin = user_pin\n",
    "\n",
    "    user_balance = int(input('enter balance'))\n",
    "    self.balance = user_balance\n",
    "\n",
    "    print('pin created successfully')\n",
    "    self.menu()\n",
    "  #creating the function for changing the Pin\n",
    "  def change_pin():\n",
    "    old_pin = input('enter old pin')\n",
    "  #if old pin exits then compare to self pin \n",
    "    if old_pin == self.pin:\n",
    "      # let him change the pin\n",
    "      new_pin = input('enter new pin')\n",
    "      self.pin = new_pin\n",
    "      print('pin change successful')\n",
    "      self.menu()\n",
    "    #otherwise print incorrect\n",
    "    else:\n",
    "      print('Incorrect!!!!')\n",
    "      self.menu()\n",
    "  #Creating the Function For checking the balance \n",
    "  def check_balance(self):\n",
    "    user_pin = input('enter your pin')\n",
    "    if user_pin == self.pin:\n",
    "      print('your balance is ',self.balance)\n",
    "    else:\n",
    "      print('Balance Zero !!')\n",
    "  #Creating the withdraw Function\n",
    "  def withdraw(self):\n",
    "    user_pin = input('enter the pin')\n",
    "    if user_pin == self.pin:\n",
    "      # allow to withdraw\n",
    "      amount = int(input('enter the amount'))\n",
    "      if amount <= self.balance:\n",
    "        self.balance = self.balance - amount\n",
    "        print('withdrawl successful.balance is',self.balance)\n",
    "      else:\n",
    "        print('insufficient balance !!!!')\n",
    "    else:\n",
    "      print('Scam')\n",
    "    self.menu()"
   ]
  },
  {
   "cell_type": "code",
   "execution_count": null,
   "id": "9d3a2bd3-0fb5-473d-afad-37cd75433be9",
   "metadata": {},
   "outputs": [
    {
     "name": "stdout",
     "output_type": "stream",
     "text": [
      "2624449996496\n"
     ]
    }
   ],
   "source": [
    "#Creating The Objects for ATM class \n",
    "obj=Atm()"
   ]
  },
  {
   "cell_type": "code",
   "execution_count": null,
   "id": "8173ef14-e823-4292-882d-ef04d70b748b",
   "metadata": {},
   "outputs": [],
   "source": []
  }
 ],
 "metadata": {
  "kernelspec": {
   "display_name": "Python 3 (ipykernel)",
   "language": "python",
   "name": "python3"
  },
  "language_info": {
   "codemirror_mode": {
    "name": "ipython",
    "version": 3
   },
   "file_extension": ".py",
   "mimetype": "text/x-python",
   "name": "python",
   "nbconvert_exporter": "python",
   "pygments_lexer": "ipython3",
   "version": "3.11.7"
  }
 },
 "nbformat": 4,
 "nbformat_minor": 5
}
